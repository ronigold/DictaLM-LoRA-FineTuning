{
 "cells": [
  {
   "cell_type": "code",
   "execution_count": 1,
   "id": "96c3c595-f6ea-46f1-8d8a-e1a2c3e551b8",
   "metadata": {
    "tags": []
   },
   "outputs": [],
   "source": [
    "from transformers import AutoModelForCausalLM, AutoTokenizer, BitsAndBytesConfig, HfArgumentParser, TrainingArguments, pipeline, GPT2LMHeadModel, GPT2Config\n",
    "from peft import LoraConfig, PeftModel, get_peft_model\n",
    "from datasets import load_dataset\n",
    "from trl import SFTTrainer\n",
    "from accelerate import Accelerator\n",
    "from ollama_interact import *"
   ]
  },
  {
   "cell_type": "code",
   "execution_count": 2,
   "id": "949f9bc8-7366-42d0-9604-bc62bb294100",
   "metadata": {
    "tags": []
   },
   "outputs": [],
   "source": [
    "data_name = \"vicgalle/alpaca-gpt4\"\n",
    "\n",
    "dataset = load_dataset(\n",
    "    data_name, \n",
    ")"
   ]
  },
  {
   "cell_type": "code",
   "execution_count": 3,
   "id": "553e7c03-0e9b-4c89-8b03-8995f2a6a5dc",
   "metadata": {
    "tags": []
   },
   "outputs": [
    {
     "data": {
      "text/plain": [
       "52002"
      ]
     },
     "execution_count": 3,
     "metadata": {},
     "output_type": "execute_result"
    }
   ],
   "source": [
    "len(dataset['train'])"
   ]
  },
  {
   "cell_type": "code",
   "execution_count": 4,
   "id": "f3c8eec3-f5e4-4979-a35c-b02b4daca35e",
   "metadata": {
    "tags": []
   },
   "outputs": [],
   "source": [
    "sentence = dataset['train'][0]"
   ]
  },
  {
   "cell_type": "code",
   "execution_count": 5,
   "id": "8c818ecd-bfd4-4d56-96de-395f7e38638a",
   "metadata": {
    "tags": []
   },
   "outputs": [
    {
     "name": "stdout",
     "output_type": "stream",
     "text": [
      "{'instruction': 'Give three tips for staying healthy.', 'input': '', 'output': '1. Eat a balanced and nutritious diet: Make sure your meals are inclusive of a variety of fruits and vegetables, lean protein, whole grains, and healthy fats. This helps to provide your body with the essential nutrients to function at its best and can help prevent chronic diseases.\\n\\n2. Engage in regular physical activity: Exercise is crucial for maintaining strong bones, muscles, and cardiovascular health. Aim for at least 150 minutes of moderate aerobic exercise or 75 minutes of vigorous exercise each week.\\n\\n3. Get enough sleep: Getting enough quality sleep is crucial for physical and mental well-being. It helps to regulate mood, improve cognitive function, and supports healthy growth and immune function. Aim for 7-9 hours of sleep each night.', 'text': 'Below is an instruction that describes a task. Write a response that appropriately completes the request.\\n\\n### Instruction:\\nGive three tips for staying healthy.\\n\\n### Response:\\n1. Eat a balanced and nutritious diet: Make sure your meals are inclusive of a variety of fruits and vegetables, lean protein, whole grains, and healthy fats. This helps to provide your body with the essential nutrients to function at its best and can help prevent chronic diseases.\\n\\n2. Engage in regular physical activity: Exercise is crucial for maintaining strong bones, muscles, and cardiovascular health. Aim for at least 150 minutes of moderate aerobic exercise or 75 minutes of vigorous exercise each week.\\n\\n3. Get enough sleep: Getting enough quality sleep is crucial for physical and mental well-being. It helps to regulate mood, improve cognitive function, and supports healthy growth and immune function. Aim for 7-9 hours of sleep each night.'}\n"
     ]
    }
   ],
   "source": [
    "print(sentence)"
   ]
  },
  {
   "cell_type": "code",
   "execution_count": 6,
   "id": "d3e96670-d73d-419a-8b32-e3f23086df7b",
   "metadata": {
    "tags": []
   },
   "outputs": [],
   "source": [
    "prompt_prefix = 'תרגם את המשפט הבא מאנגלית לעברית, המשפט באנגלית הוא:'\n",
    "prompt_softfix = 'והתרגום בעברית הוא:'"
   ]
  },
  {
   "cell_type": "code",
   "execution_count": 7,
   "id": "63022092-cce2-4434-b4c8-9bd869b8666d",
   "metadata": {
    "tags": []
   },
   "outputs": [],
   "source": [
    "def output_handler_pass(m):\n",
    "    pass"
   ]
  },
  {
   "cell_type": "code",
   "execution_count": null,
   "id": "732b0203-cbb3-4a69-9f50-b32f6e3652b5",
   "metadata": {
    "tags": []
   },
   "outputs": [],
   "source": [
    "import requests\n",
    "file_path = \"alpaca_gpt4_hebrew.txt\"\n",
    "\n",
    "with open(file_path, 'a') as file:\n",
    "    for i in range(len(dataset['train'])):\n",
    "        instruction = dataset['train'][i]['instruction']\n",
    "        input = dataset['train'][i]['input']\n",
    "        output = dataset['train'][i]['output']\n",
    "        try:\n",
    "            file.write(f\"Q {i}:\\n\")\n",
    "            instruction_hebrew = interact_with_ollama(\n",
    "                prompt = f'{prompt_prefix} {instruction} {prompt_softfix}',\n",
    "                model = 'DictaLM-2.0-Instruct',\n",
    "                stream = False,\n",
    "                output_handler = output_handler_pass\n",
    "            )\n",
    "            file.write(f\"instruction_hebrew: {instruction_hebrew}\\n\")\n",
    "            if input:\n",
    "                input_hebrew = interact_with_ollama(\n",
    "                    prompt = f'{prompt_prefix} {input} {prompt_softfix}',\n",
    "                    model = 'DictaLM-2.0-Instruct',\n",
    "                    stream = False,\n",
    "                    output_handler = output_handler_pass\n",
    "                )\n",
    "            else:\n",
    "                input_hebrew = ''\n",
    "            file.write(f\"input_hebrew: {input_hebrew}\\n\")\n",
    "            output_hebrew = interact_with_ollama(\n",
    "                prompt = f'{prompt_prefix} {output} {prompt_softfix}',\n",
    "                model = 'DictaLM-2.0-Instruct',\n",
    "                stream = False,\n",
    "                output_handler = output_handler_pass\n",
    "            )\n",
    "            file.write(f\"output_hebrew: {output_hebrew}\\n\")\n",
    "            file.flush()\n",
    "        except requests.RequestException as e:\n",
    "            print(f\"An error occurred during the API call: {e}\")\n",
    "        except IOError as e:\n",
    "            print(f\"An error occurred while writing to the file: {e}\")"
   ]
  }
 ],
 "metadata": {
  "kernelspec": {
   "display_name": "llm_env",
   "language": "python",
   "name": "llm_env"
  },
  "language_info": {
   "codemirror_mode": {
    "name": "ipython",
    "version": 3
   },
   "file_extension": ".py",
   "mimetype": "text/x-python",
   "name": "python",
   "nbconvert_exporter": "python",
   "pygments_lexer": "ipython3",
   "version": "3.10.13"
  }
 },
 "nbformat": 4,
 "nbformat_minor": 5
}
